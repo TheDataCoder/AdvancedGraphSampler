{
 "cells": [
  {
   "cell_type": "code",
   "execution_count": 2,
   "id": "33cb950f-0503-4425-8823-d4786ac60a71",
   "metadata": {
    "execution": {
     "iopub.execute_input": "2024-06-02T09:13:02.291448Z",
     "iopub.status.busy": "2024-06-02T09:13:02.290146Z",
     "iopub.status.idle": "2024-06-02T09:13:02.459216Z",
     "shell.execute_reply": "2024-06-02T09:13:02.457659Z",
     "shell.execute_reply.started": "2024-06-02T09:13:02.291371Z"
    }
   },
   "outputs": [],
   "source": [
    "import multiprocessing as mp\n",
    "import os.path as osp\n",
    "from multiprocessing import cpu_count\n",
    "from pathlib import Path\n",
    "from os import path\n",
    "from zipfile import ZipFile\n",
    "\n",
    "import kuzu\n",
    "import numpy as np\n",
    "import pandas as pd\n",
    "import torch\n",
    "import torch.nn.functional as F\n",
    "from ogb.nodeproppred import PygNodePropPredDataset\n",
    "from tqdm import tqdm\n",
    "from torch_geometric.loader import NeighborLoader\n",
    "\n",
    "from .src.modeling.graph_sage import GraphSAGE"
   ]
  },
  {
   "cell_type": "code",
   "execution_count": 4,
   "id": "8594f6b1-6953-4566-ad31-73016bfe55ee",
   "metadata": {
    "execution": {
     "iopub.execute_input": "2024-06-03T18:51:16.788270Z",
     "iopub.status.busy": "2024-06-03T18:51:16.787646Z",
     "iopub.status.idle": "2024-06-03T18:51:16.795599Z",
     "shell.execute_reply": "2024-06-03T18:51:16.794257Z",
     "shell.execute_reply.started": "2024-06-03T18:51:16.788214Z"
    }
   },
   "outputs": [],
   "source": [
    "DATASET_PATH = Path(\"dataset/ogbn_papers100M\")\n",
    "RAW_PATH = DATASET_PATH / \"raw\"\n",
    "PROCESSED_PATH = DATASET_PATH / \"processed\""
   ]
  },
  {
   "cell_type": "code",
   "execution_count": 5,
   "id": "dc7c5f79-2a6d-4223-916e-89e2a9044536",
   "metadata": {
    "execution": {
     "iopub.execute_input": "2024-06-03T18:51:17.194092Z",
     "iopub.status.busy": "2024-06-03T18:51:17.193299Z",
     "iopub.status.idle": "2024-06-03T19:04:35.764319Z",
     "shell.execute_reply": "2024-06-03T19:04:35.763359Z",
     "shell.execute_reply.started": "2024-06-03T18:51:17.194035Z"
    },
    "scrolled": true
   },
   "outputs": [
    {
     "name": "stdout",
     "output_type": "stream",
     "text": [
      "Extracting data.npz...\n",
      "Extracting node-label.npz...\n"
     ]
    }
   ],
   "source": [
    "with ZipFile(RAW_PATH / \"data.npz\", 'r') as data_zip:\n",
    "    print('Extracting data.npz...')\n",
    "    data_zip.extractall()\n",
    "\n",
    "with ZipFile(RAW_PATH / \"node-label.npz\", 'r') as node_label_zip:\n",
    "    print('Extracting node-label.npz...')\n",
    "    node_label_zip.extractall()"
   ]
  },
  {
   "cell_type": "code",
   "execution_count": null,
   "id": "4d4692ce-57a9-437b-8a86-506a9c1bddfd",
   "metadata": {
    "execution": {
     "iopub.execute_input": "2024-06-03T19:50:06.787493Z",
     "iopub.status.busy": "2024-06-03T19:50:06.787043Z"
    }
   },
   "outputs": [
    {
     "name": "stderr",
     "output_type": "stream",
     "text": [
      " 41%|████▏     | 669821815/1615685872 [22:05<1:05:30, 240643.16it/s]"
     ]
    }
   ],
   "source": [
    "edge_index = np.load(RAW_PATH / 'edge_index.npy', mmap_mode='r')\n",
    "csvfile = open(RAW_PATH / 'edge_index.csv', 'w')\n",
    "csvfile.write('src,dst\\n')\n",
    "for i in tqdm(range(edge_index.shape[1])):\n",
    "    csvfile.write(str(edge_index[0, i]) + ',' + str(edge_index[1, i]) + '\\n')\n",
    "csvfile.close()"
   ]
  },
  {
   "cell_type": "code",
   "execution_count": null,
   "id": "ad9d06c0-d9a3-4b01-a77e-7f99f2167704",
   "metadata": {},
   "outputs": [],
   "source": [
    "ids_path = RAW_PATH / 'ids.npy'\n",
    "edge_index_path = RAW_PATH / 'edge_index.csv'\n",
    "node_label_path = RAW_PATH / 'node_label.npy'\n",
    "node_feature_path = RAW_PATH / 'node_feat.npy'\n",
    "node_year_path = RAW_PATH / 'node_year.npy'"
   ]
  },
  {
   "cell_type": "code",
   "execution_count": null,
   "id": "03aea928-7d1d-489a-96b4-364655e98204",
   "metadata": {},
   "outputs": [],
   "source": [
    "db = kuzu.Database('Papers100M')\n",
    "conn = kuzu.Connection(db, num_threads=32)"
   ]
  },
  {
   "cell_type": "code",
   "execution_count": null,
   "id": "854f7323-8043-47b8-8ce4-c1cf22139b70",
   "metadata": {
    "scrolled": true
   },
   "outputs": [],
   "source": [
    "conn.execute(\n",
    "    \"CREATE NODE TABLE paper(id INT64, x FLOAT[128], year INT64, y FLOAT, \"\n",
    "    \"PRIMARY KEY (id));\")\n",
    "conn.execute(\"CREATE REL TABLE cites(FROM paper TO paper, MANY_MANY);\")\n",
    "conn.execute('COPY paper FROM (\"%s\",  \"%s\",  \"%s\", \"%s\") BY COLUMN;' %\n",
    "             (ids_path, node_feature_path, node_year_path, node_label_path))\n",
    "conn.execute('COPY cites FROM \"%s\";' % (edge_index_path))"
   ]
  },
  {
   "cell_type": "code",
   "execution_count": null,
   "id": "1298248e-4616-4bce-bea8-724262d48ceb",
   "metadata": {},
   "outputs": [],
   "source": []
  },
  {
   "cell_type": "code",
   "execution_count": null,
   "id": "cd744701-6ac2-4131-af63-5bbb4ed2fc6e",
   "metadata": {},
   "outputs": [],
   "source": [
    "NUM_EPOCHS = 1\n",
    "LOADER_BATCH_SIZE = 1024"
   ]
  },
  {
   "cell_type": "code",
   "execution_count": null,
   "id": "fe3dfeef-302e-434f-8287-e9ee0c694a64",
   "metadata": {},
   "outputs": [],
   "source": [
    "device = torch.device('cuda' if torch.cuda.is_available() else 'cpu')\n",
    "\n",
    "# Load the train set:\n",
    "train_path = osp.join('.', 'papers100M-bin', 'split', 'time', 'train.csv.gz')\n",
    "train_df = pd.read_csv(\n",
    "    osp.abspath(train_path),\n",
    "    compression='gzip',\n",
    "    header=None,\n",
    ")\n",
    "input_nodes = torch.tensor(train_df[0].values, dtype=torch.long)"
   ]
  },
  {
   "cell_type": "code",
   "execution_count": null,
   "id": "51d1adc3-7616-4323-8c65-8a30d4a10b20",
   "metadata": {},
   "outputs": [],
   "source": [
    "########################################################################\n",
    "# The below code sets up the remote backend of Kùzu for PyG.\n",
    "# Please refer to: https://kuzudb.com/docs/client-apis/python-api/overview.html\n",
    "# for how to use the Python API of Kùzu.\n",
    "########################################################################\n",
    "\n",
    "# The buffer pool size of Kùzu is set to 40GB. You can change it to a smaller\n",
    "# value if you have less memory.\n",
    "KUZU_BM_SIZE = 40 * 1024**3"
   ]
  },
  {
   "cell_type": "code",
   "execution_count": null,
   "id": "2abcc050-613c-4296-9510-0fdad8637caa",
   "metadata": {},
   "outputs": [],
   "source": [
    "# Create Kùzu database:\n",
    "db = kuzu.Database(osp.abspath(osp.join('.', 'papers100M')), KUZU_BM_SIZE)\n",
    "\n",
    "# Get remote backend for PyG:\n",
    "feature_store, graph_store = db.get_torch_geometric_remote_backend(\n",
    "    mp.cpu_count())"
   ]
  },
  {
   "cell_type": "code",
   "execution_count": null,
   "id": "c255e42b-cc3e-47d5-be08-4628fe94b45b",
   "metadata": {},
   "outputs": [],
   "source": [
    "# Plug the graph store and feature store into the `NeighborLoader`.\n",
    "# Note that `filter_per_worker` is set to `False`. This is because the Kùzu\n",
    "# database is already using multi-threading to scan the features in parallel\n",
    "# and the database object is not fork-safe.\n",
    "loader = NeighborLoader(\n",
    "    data=(feature_store, graph_store),\n",
    "    num_neighbors={('paper', 'cites', 'paper'): [12, 12, 12]},\n",
    "    batch_size=LOADER_BATCH_SIZE,\n",
    "    input_nodes=('paper', input_nodes),\n",
    "    num_workers=4,\n",
    "    filter_per_worker=False,\n",
    ")"
   ]
  },
  {
   "cell_type": "code",
   "execution_count": null,
   "id": "a4e83a29-6b53-4d98-853d-085a94f1d90f",
   "metadata": {},
   "outputs": [],
   "source": [
    "model = GraphSAGE(in_channels=128, hidden_channels=1024, out_channels=172,\n",
    "                  num_layers=3).to(device)\n",
    "optimizer = torch.optim.Adam(model.parameters(), lr=0.01, weight_decay=5e-4)"
   ]
  },
  {
   "cell_type": "code",
   "execution_count": null,
   "id": "70f90a19-4c18-4e0e-9274-b2213318aa67",
   "metadata": {},
   "outputs": [],
   "source": [
    "for epoch in range(1, NUM_EPOCHS + 1):\n",
    "    total_loss = total_examples = 0\n",
    "    for batch in tqdm(loader):\n",
    "        batch = batch.to(device)\n",
    "        batch_size = batch['paper'].batch_size\n",
    "\n",
    "        optimizer.zero_grad()\n",
    "        out = model(\n",
    "            batch['paper'].x,\n",
    "            batch['paper', 'cites', 'paper'].edge_index,\n",
    "        )[:batch_size]\n",
    "        y = batch['paper'].y[:batch_size].long().view(-1)\n",
    "        loss = F.cross_entropy(out, y)\n",
    "\n",
    "        loss.backward()\n",
    "        optimizer.step()\n",
    "\n",
    "        total_loss += float(loss) * y.numel()\n",
    "        total_examples += y.numel()\n",
    "\n",
    "    print(f'Epoch: {epoch:02d}, Loss: {total_loss / total_examples:.4f}')"
   ]
  }
 ],
 "metadata": {
  "kernelspec": {
   "display_name": "Python [conda env:.conda-graphs]",
   "language": "python",
   "name": "conda-env-.conda-graphs-py"
  },
  "language_info": {
   "codemirror_mode": {
    "name": "ipython",
    "version": 3
   },
   "file_extension": ".py",
   "mimetype": "text/x-python",
   "name": "python",
   "nbconvert_exporter": "python",
   "pygments_lexer": "ipython3",
   "version": "3.10.14"
  }
 },
 "nbformat": 4,
 "nbformat_minor": 5
}
